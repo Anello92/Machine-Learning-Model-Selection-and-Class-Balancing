{
  "cells": [
    {
      "cell_type": "markdown",
      "metadata": {
        "id": "lgOHjhxXGCqS"
      },
      "source": [
        "# **<font color='white gray'>panData</font>**\n",
        "## **<font color='white gray'>Data Science for Multivariate Data Analysis</font>**\n",
        "## **<font color='white gray'>Part 2 - Modeling</font>**\n",
        "### **<font color='white gray'>Machine Learning Model Selection in Multivariate Analysis with Anonymized Data</font>**\n"
      ]
    },
    {
      "cell_type": "markdown",
      "metadata": {
        "id": "A-LtOh-SGCqU"
      },
      "source": [
        "### **Installing and Loading Packages**\n",
        "\n"
      ]
    },
    {
      "cell_type": "code",
      "execution_count": 47,
      "metadata": {
        "id": "EqUYZEZAGCqU"
      },
      "outputs": [],
      "source": [
        "# To update a package, run the command below in the terminal or command prompt:\n",
        "# pip install -U package_name\n",
        "\n",
        "# To install an exact version of a package, run the command below in the terminal or command prompt:\n",
        "# !pip install package_name==desired_version\n",
        "\n",
        "# After installing or updating the package, restart the Jupyter notebook.\n",
        "\n",
        "# Installing the watermark package.\n",
        "# This package is used to record the versions of other packages used in this Jupyter notebook.\n",
        "!pip install -q -U watermark"
      ]
    },
    {
      "cell_type": "code",
      "execution_count": 48,
      "metadata": {
        "id": "Yf8fnSNRGCqV"
      },
      "outputs": [],
      "source": [
        "# This package does not come with Anaconda and needs to be installed\n",
        "# Kaggle\n",
        "!pip install -q xgboost\n"
      ]
    },
    {
      "cell_type": "code",
      "execution_count": 49,
      "metadata": {
        "id": "gMD7drFRGCqV"
      },
      "outputs": [],
      "source": [
        "# 1. Imports\n",
        "import pickle\n",
        "import pandas as pd\n",
        "import numpy as np\n",
        "import seaborn as sns\n",
        "import matplotlib.pyplot as plt\n",
        "import xgboost as xgb\n",
        "import sklearn\n",
        "from sklearn.preprocessing import StandardScaler\n",
        "from sklearn.linear_model import LogisticRegression\n",
        "from sklearn.naive_bayes import GaussianNB\n",
        "from xgboost import XGBClassifier\n",
        "from sklearn.ensemble import RandomForestClassifier\n",
        "from sklearn.metrics import roc_auc_score, accuracy_score, precision_score, recall_score, roc_curve\n",
        "import warnings\n",
        "warnings.filterwarnings('ignore')"
      ]
    },
    {
      "cell_type": "code",
      "execution_count": 50,
      "metadata": {
        "colab": {
          "base_uri": "https://localhost:8080/"
        },
        "id": "YG46xUEpGCqW",
        "outputId": "b7ebc562-1c40-49ab-dc74-41165016e642"
      },
      "outputs": [
        {
          "output_type": "stream",
          "name": "stdout",
          "text": [
            "Author: panData\n",
            "\n"
          ]
        }
      ],
      "source": [
        "# 2. Versions of the packages used in this Jupyter notebook\n",
        "%reload_ext watermark\n",
        "%watermark -a \"panData\""
      ]
    },
    {
      "cell_type": "markdown",
      "metadata": {
        "id": "iv8qF_lbGCqX"
      },
      "source": [
        "## **Loading the Pre-Processed Data**"
      ]
    },
    {
      "cell_type": "code",
      "execution_count": 51,
      "metadata": {
        "id": "Iaj7pU3lGCqX"
      },
      "outputs": [],
      "source": [
        "# 3. Loading the datasets\n",
        "df_train = pd.read_csv('train_data.csv')\n",
        "df_train_final = pd.read_csv('train_final_data.csv')\n",
        "df_valid = pd.read_csv('validation_data.csv')\n",
        "df_test = pd.read_csv('test_data.csv')"
      ]
    },
    {
      "cell_type": "code",
      "execution_count": 52,
      "metadata": {
        "id": "F3vNQjn6GCqY"
      },
      "outputs": [],
      "source": [
        "# 4. Loading the input column names\n",
        "with open('input_columns.sav', 'rb') as file:\n",
        "    input_columns = pickle.load(file)"
      ]
    },
    {
      "cell_type": "markdown",
      "metadata": {
        "id": "F2ufbGNRGCqY"
      },
      "source": [
        "## **Preparing the Matrices**"
      ]
    },
    {
      "cell_type": "code",
      "source": [
        "# 6a. Prepare the X Matrix\n",
        "X_train = df_train_final[input_columns].values\n",
        "X_valid = df_valid[input_columns].values\n",
        "X_test = df_test[input_columns].values"
      ],
      "metadata": {
        "id": "Ty3wLJUIfC-6"
      },
      "execution_count": 53,
      "outputs": []
    },
    {
      "cell_type": "code",
      "execution_count": 54,
      "metadata": {
        "id": "yzWEtV7HGCqZ"
      },
      "outputs": [],
      "source": [
        "# 6b. Preparing the Matrix Y\n",
        "y_train = df_train_final['LABEL_TARGET'].values\n",
        "y_valid = df_valid['LABEL_TARGET'].values\n",
        "y_test = df_test['LABEL_TARGET'].values"
      ]
    },
    {
      "cell_type": "code",
      "execution_count": 55,
      "metadata": {
        "colab": {
          "base_uri": "https://localhost:8080/"
        },
        "id": "kt0z9bGzGCqZ",
        "outputId": "a6ce3f01-dc0d-4832-ac14-09035b223e06"
      },
      "outputs": [
        {
          "output_type": "stream",
          "name": "stdout",
          "text": [
            "Shape of training data: (3206, 178) (3206,)\n",
            "Shape of validation data: (1725, 178) (1725,)\n",
            "Shape of test data: (1725, 178) (1725,)\n"
          ]
        }
      ],
      "source": [
        "# 7. Print\n",
        "print('Shape of training data:', X_train.shape, y_train.shape)\n",
        "print('Shape of validation data:', X_valid.shape, y_valid.shape)\n",
        "print('Shape of test data:', X_test.shape, y_test.shape)"
      ]
    },
    {
      "cell_type": "code",
      "execution_count": 56,
      "metadata": {
        "colab": {
          "base_uri": "https://localhost:8080/"
        },
        "id": "itnrKlecGCqZ",
        "outputId": "4eb8e90e-30c5-490f-aea8-838721f134ac"
      },
      "outputs": [
        {
          "output_type": "execute_result",
          "data": {
            "text/plain": [
              "numpy.ndarray"
            ]
          },
          "metadata": {},
          "execution_count": 56
        }
      ],
      "source": [
        "type(X_train)"
      ]
    },
    {
      "cell_type": "code",
      "execution_count": 57,
      "metadata": {
        "colab": {
          "base_uri": "https://localhost:8080/"
        },
        "id": "RIKUhGi4GCqZ",
        "outputId": "b9a88bcb-289f-472a-a460-29d819c7952b"
      },
      "outputs": [
        {
          "output_type": "execute_result",
          "data": {
            "text/plain": [
              "array([[  -2,    0,    1, ...,   54,   55,   53],\n",
              "       [ -23,  -24,    8, ...,   -6,    4,   54],\n",
              "       [  90,   30,  -16, ...,  -19,  -29,  -39],\n",
              "       ...,\n",
              "       [-216, -216, -214, ...,  106,  105,  103],\n",
              "       [ -30,  -31,  -28, ...,  -95,  -68,  -57],\n",
              "       [  48,   49,   51, ...,  -40,  -50,  -68]])"
            ]
          },
          "metadata": {},
          "execution_count": 57
        }
      ],
      "source": [
        "X_train"
      ]
    },
    {
      "cell_type": "markdown",
      "metadata": {
        "id": "4ANKO6rxGCqZ"
      },
      "source": [
        "## **Data Standardization**"
      ]
    },
    {
      "cell_type": "code",
      "execution_count": 58,
      "metadata": {
        "id": "LJk_SyINGCqa"
      },
      "outputs": [],
      "source": [
        "# 9. Create the scaler object\n",
        "scaler = StandardScaler()\n",
        "\n",
        "# 10. Fit the scaler\n",
        "scaler.fit(X_train)\n",
        "\n",
        "# 11. Save the scaler object to disk for later use\n",
        "scalerfile = 'scaler.sav'\n",
        "pickle.dump(scaler, open(scalerfile, 'wb'))\n",
        "\n",
        "# 12. Load the saved scaler\n",
        "scaler = pickle.load(open(scalerfile, 'rb'))\n",
        "\n",
        "# 13. Apply standardization to the data matrices\n",
        "X_train_tf = scaler.transform(X_train)\n",
        "X_valid_tf = scaler.transform(X_valid)"
      ]
    },
    {
      "cell_type": "code",
      "execution_count": 59,
      "metadata": {
        "colab": {
          "base_uri": "https://localhost:8080/"
        },
        "id": "YJQKB9GiGCqa",
        "outputId": "da2422ba-0868-4828-c5a8-b7d00677b091"
      },
      "outputs": [
        {
          "output_type": "execute_result",
          "data": {
            "text/plain": [
              "array([[ 7.40974261e-02,  7.46702120e-02,  7.05334111e-02, ...,\n",
              "         2.80910832e-01,  2.82979578e-01,  2.70416165e-01],\n",
              "       [-1.00103295e-02, -2.24974180e-02,  9.96166017e-02, ...,\n",
              "         2.90135020e-02,  6.80215352e-02,  2.74569757e-01],\n",
              "       [ 4.42569498e-01,  1.96129750e-01, -9.71945144e-05, ...,\n",
              "        -2.55642528e-02, -7.10689631e-02, -1.11714250e-01],\n",
              "       ...,\n",
              "       [-7.83000655e-01, -7.99838458e-01, -8.22736013e-01, ...,\n",
              "         4.99221851e-01,  4.93722757e-01,  4.78095739e-01],\n",
              "       [-3.80462481e-02, -5.08379767e-02, -4.99540926e-02, ...,\n",
              "        -3.44634204e-01, -2.35448643e-01, -1.86478896e-01],\n",
              "       [ 2.74353987e-01,  2.73054123e-01,  2.78270487e-01, ...,\n",
              "        -1.13728318e-01, -1.59581098e-01, -2.32168402e-01]])"
            ]
          },
          "metadata": {},
          "execution_count": 59
        }
      ],
      "source": [
        "X_train_tf"
      ]
    },
    {
      "cell_type": "markdown",
      "metadata": {
        "id": "kK3W5RAZGCqa"
      },
      "source": [
        "## **Predictive Modeling**"
      ]
    },
    {
      "cell_type": "markdown",
      "metadata": {
        "id": "NUpn8Z4TGCqa"
      },
      "source": [
        "###  **Auxiliary Functions**"
      ]
    },
    {
      "cell_type": "code",
      "execution_count": 60,
      "metadata": {
        "id": "LNZ7tQuFGCqa"
      },
      "outputs": [],
      "source": [
        "# 14. Function to calculate specificity\n",
        "def calculate_specificity(y_actual, y_pred, thresh):\n",
        "    return sum((y_pred < thresh) & (y_actual == 0)) / sum(y_actual == 0)"
      ]
    },
    {
      "cell_type": "markdown",
      "metadata": {
        "id": "ncFO5JJxGCqa"
      },
      "source": [
        "\n",
        "\n",
        "Specificity is a metric used to evaluate the performance of a classification model, especially in binary classification problems. It measures the proportion of true negatives (TN) relative to the total number of actual negatives, i.e., the model's ability to correctly identify negative instances.\n",
        "\n",
        "Here is what each part means:\n",
        "\n",
        "**`y_pred < thresh`**: This condition checks if the model's prediction (`y_pred`) is lower than a specified threshold (`thresh`). In binary classification models, this threshold is often set to 0.5 but can be adjusted based on the specific problem. This condition returns a boolean vector, where each element is `True` if the prediction is less than the threshold (indicating a negative class prediction) and `False` otherwise.\n",
        "\n",
        "**`y_actual == 0`**: This condition checks which elements of the actual labels vector (`y_actual`) are equal to 0, meaning they belong to the negative class. This also returns a boolean vector.\n",
        "\n",
        "**`(y_pred < thresh) & (y_actual == 0)`**: This is the logical \"and\" operator applied between the two boolean vectors above. It returns a new boolean vector, where each element is `True` only if both conditions are `True` for that element, meaning that the prediction is negative and the actual label is also negative. This represents the true negatives (TN).\n",
        "\n",
        "**`sum((y_pred < thresh) & (y_actual == 0))`**: This is the sum of the `True` values in the resulting boolean vector, which is equivalent to the number of true negatives (TN).\n",
        "\n",
        "**`sum(y_actual == 0)`**: This is the sum of the `True` values in the boolean vector representing actual negative labels, which is equivalent to the total number of actual negative instances (TN + FP).\n",
        "\n",
        "**`sum((y_pred < thresh) & (y_actual == 0)) / sum(y_actual == 0)`**: This is the ratio between the number of true negatives (TN) and the total number of actual negative instances (TN + FP), which is the definition of specificity.\n"
      ]
    },
    {
      "cell_type": "code",
      "execution_count": 61,
      "metadata": {
        "id": "6xA6sNSVGCqa"
      },
      "outputs": [],
      "source": [
        "# 15. Function to generate a metrics report\n",
        "def print_report(y_actual, y_pred, thresh):\n",
        "\n",
        "    auc = roc_auc_score(y_actual, y_pred)\n",
        "    accuracy = accuracy_score(y_actual, (y_pred > thresh))\n",
        "    recall = recall_score(y_actual, (y_pred > thresh))\n",
        "    precision = precision_score(y_actual, (y_pred > thresh))\n",
        "    specificity = calculate_specificity(y_actual, y_pred, thresh)\n",
        "\n",
        "    print('AUC:%.3f' % auc)\n",
        "    print('Accuracy:%.3f' % accuracy)\n",
        "    print('Recall:%.3f' % recall)\n",
        "    print('Precision:%.3f' % precision)\n",
        "    print('Specificity:%.3f' % specificity)\n",
        "    print(' ')\n",
        "\n",
        "    return auc, accuracy, recall, precision, specificity\n"
      ]
    },
    {
      "cell_type": "code",
      "execution_count": 62,
      "metadata": {
        "id": "PkqrjHa9GCqa"
      },
      "outputs": [],
      "source": [
        "thresh = 0.5"
      ]
    },
    {
      "cell_type": "markdown",
      "metadata": {
        "id": "lHs2juuQGCqb"
      },
      "source": [
        "### **Version 1 of the Model - Logistic Regression (Without Hyperparameter Optimization)**\n",
        "\n",
        "See the description of this model in the videobook.\n",
        "\n",
        "https://scikit-learn.org/stable/modules/generated/sklearn.linear_model.LogisticRegression.html\n"
      ]
    },
    {
      "cell_type": "code",
      "execution_count": 63,
      "metadata": {
        "colab": {
          "base_uri": "https://localhost:8080/"
        },
        "id": "26e3Zv1nGCqb",
        "outputId": "adfd30d4-c2ff-4b45-ff92-ad18d25e345e"
      },
      "outputs": [
        {
          "output_type": "stream",
          "name": "stdout",
          "text": [
            "Logistic Regression Model (Without Hyperparameter Optimization)\n",
            "\n",
            "Training:\n",
            "\n",
            "AUC:0.626\n",
            "Accuracy:0.655\n",
            "Recall:0.526\n",
            "Precision:0.708\n",
            "Specificity:0.784\n",
            " \n",
            "Validation:\n",
            "\n",
            "AUC:0.541\n",
            "Accuracy:0.702\n",
            "Recall:0.457\n",
            "Precision:0.329\n",
            "Specificity:0.764\n",
            " \n"
          ]
        }
      ],
      "source": [
        "# 16. Model Construction\n",
        "\n",
        "# Create the classifier (object)\n",
        "lr1 = LogisticRegression()\n",
        "\n",
        "# Train and create the model\n",
        "model_v1 = lr1.fit(X_train_tf, y_train)\n",
        "\n",
        "# Predictions\n",
        "y_train_preds = model_v1.predict_proba(X_train_tf)[:,1]\n",
        "y_valid_preds = model_v1.predict_proba(X_valid_tf)[:,1]\n",
        "\n",
        "print('Logistic Regression Model (Without Hyperparameter Optimization)\\n')\n",
        "\n",
        "print('Training:\\n')\n",
        "lr1_train_auc, lr1_train_accuracy, lr1_train_recall, lr1_train_precision, lr1_train_specificity = print_report(y_train,\n",
        "                                                                                                                   y_train_preds,\n",
        "                                                                                                                   thresh)\n",
        "\n",
        "print('Validation:\\n')\n",
        "lr1_valid_auc, lr1_valid_accuracy, lr1_valid_recall, lr1_valid_precision, lr1_valid_specificity = print_report(y_valid,\n",
        "                                                                                                                   y_valid_preds,\n",
        "                                                                                                                   thresh)"
      ]
    },
    {
      "cell_type": "markdown",
      "metadata": {
        "id": "STniICErGCqb"
      },
      "source": [
        "### **Version 2 of the Model - Logistic Regression (With Hyperparameter Optimization)**\n",
        "\n",
        "See the description of this model in the videobook.\n"
      ]
    },
    {
      "cell_type": "code",
      "execution_count": 64,
      "metadata": {
        "colab": {
          "base_uri": "https://localhost:8080/"
        },
        "id": "TQQq1HYSGCqb",
        "outputId": "cead5d84-3969-4f7c-b374-8b4682e02b05"
      },
      "outputs": [
        {
          "output_type": "stream",
          "name": "stdout",
          "text": [
            "Logistic Regression Model (With Hyperparameter Optimization)\n",
            "\n",
            "Training:\n",
            "\n",
            "AUC:0.628\n",
            "Accuracy:0.656\n",
            "Recall:0.528\n",
            "Precision:0.709\n",
            "Specificity:0.784\n",
            " \n",
            "Validation:\n",
            "\n",
            "AUC:0.543\n",
            "Accuracy:0.702\n",
            "Recall:0.466\n",
            "Precision:0.331\n",
            "Specificity:0.762\n",
            " \n"
          ]
        }
      ],
      "source": [
        "# 17. Model Construction\n",
        "\n",
        "# Create the classifier (object)\n",
        "lr2 = LogisticRegression(random_state=142, solver='liblinear')\n",
        "\n",
        "# Train and create the model\n",
        "model_v2 = lr2.fit(X_train_tf, y_train)\n",
        "\n",
        "# Predictions\n",
        "y_train_preds = model_v2.predict_proba(X_train_tf)[:,1]\n",
        "y_valid_preds = model_v2.predict_proba(X_valid_tf)[:,1]\n",
        "\n",
        "print('Logistic Regression Model (With Hyperparameter Optimization)\\n')\n",
        "\n",
        "print('Training:\\n')\n",
        "lr2_train_auc, lr2_train_accuracy, lr2_train_recall, lr2_train_precision, lr2_train_specificity = print_report(y_train,\n",
        "                                                                                                                   y_train_preds,\n",
        "                                                                                                                   thresh)\n",
        "\n",
        "print('Validation:\\n')\n",
        "lr2_valid_auc, lr2_valid_accuracy, lr2_valid_recall, lr2_valid_precision, lr2_valid_specificity = print_report(y_valid,\n",
        "                                                                                                                   y_valid_preds,\n",
        "                                                                                                                   thresh)\n"
      ]
    },
    {
      "cell_type": "markdown",
      "metadata": {
        "id": "Y2IK5tjzGCqb"
      },
      "source": [
        "### **Version 3 of the Model - Naive Bayes**\n",
        "\n",
        "See the description of this model in the videobook.\n",
        "\n",
        "https://scikit-learn.org/stable/modules/naive_bayes.html\n"
      ]
    },
    {
      "cell_type": "code",
      "execution_count": 65,
      "metadata": {
        "colab": {
          "base_uri": "https://localhost:8080/"
        },
        "id": "L7gUFtw2GCqb",
        "outputId": "0d8c4e54-51ee-4595-ef2d-bbc265f0c936"
      },
      "outputs": [
        {
          "output_type": "stream",
          "name": "stdout",
          "text": [
            "Naive Bayes Model:\n",
            "\n",
            "Training:\n",
            "\n",
            "AUC:0.983\n",
            "Accuracy:0.925\n",
            "Recall:0.880\n",
            "Precision:0.966\n",
            "Specificity:0.969\n",
            " \n",
            "Validation:\n",
            "\n",
            "AUC:0.986\n",
            "Accuracy:0.957\n",
            "Recall:0.894\n",
            "Precision:0.894\n",
            "Specificity:0.973\n",
            " \n"
          ]
        }
      ],
      "source": [
        "# 18. Model Construction\n",
        "\n",
        "# 18a. Create the classifier (object)\n",
        "nb = GaussianNB()\n",
        "\n",
        "# 18b. Train and create the model\n",
        "model_v3 = nb.fit(X_train_tf, y_train)\n",
        "\n",
        "# 18c. Predictions\n",
        "y_train_preds = model_v3.predict_proba(X_train_tf)[:,1]\n",
        "y_valid_preds = model_v3.predict_proba(X_valid_tf)[:,1]\n",
        "\n",
        "print('Naive Bayes Model:\\n')\n",
        "\n",
        "print('Training:\\n')\n",
        "nb_train_auc, nb_train_accuracy, nb_train_recall, nb_train_precision, nb_train_specificity = print_report(y_train,\n",
        "                                                                                                              y_train_preds,\n",
        "                                                                                                              thresh)\n",
        "\n",
        "print('Validation:\\n')\n",
        "nb_valid_auc, nb_valid_accuracy, nb_valid_recall, nb_valid_precision, nb_valid_specificity = print_report(y_valid,\n",
        "                                                                                                              y_valid_preds,\n",
        "                                                                                                              thresh)\n"
      ]
    },
    {
      "cell_type": "markdown",
      "metadata": {
        "id": "ZmhS-dgcGCqb"
      },
      "source": [
        "### **Version 4 of the Model - XGBoost (Xtreme Gradient Boosting Classifier)**\n",
        "\n",
        "See the description of this model in the videobook.\n",
        "\n",
        "https://xgboost.readthedocs.io/en/stable/index.html\n"
      ]
    },
    {
      "cell_type": "code",
      "execution_count": 66,
      "metadata": {
        "colab": {
          "base_uri": "https://localhost:8080/"
        },
        "id": "mk91kvxUGCqb",
        "outputId": "b11f6fcf-52ef-45f0-e4af-6fe333bde3dd"
      },
      "outputs": [
        {
          "output_type": "stream",
          "name": "stdout",
          "text": [
            "Xtreme Gradient Boosting Classifier Model:\n",
            "\n",
            "Training:\n",
            "\n",
            "AUC:1.000\n",
            "Accuracy:1.000\n",
            "Recall:1.000\n",
            "Precision:1.000\n",
            "Specificity:1.000\n",
            " \n",
            "Validation:\n",
            "\n",
            "AUC:0.993\n",
            "Accuracy:0.959\n",
            "Recall:0.954\n",
            "Precision:0.860\n",
            "Specificity:0.961\n",
            " \n"
          ]
        }
      ],
      "source": [
        "# 19. Model Construction (Ensemble)\n",
        "\n",
        "# 19a. Create the classifier\n",
        "xgbc = XGBClassifier()\n",
        "\n",
        "# 19b. Train and create the model\n",
        "model_v4 = xgbc.fit(X_train_tf, y_train)\n",
        "\n",
        "# 19c. Predictions\n",
        "y_train_preds = model_v4.predict_proba(X_train_tf)[:,1]\n",
        "y_valid_preds = model_v4.predict_proba(X_valid_tf)[:,1]\n",
        "\n",
        "print('Xtreme Gradient Boosting Classifier Model:\\n')\n",
        "\n",
        "print('Training:\\n')\n",
        "xgbc_train_auc, xgbc_train_accuracy, xgbc_train_recall, xgbc_train_precision, xgbc_train_specificity = print_report(y_train,\n",
        "                                                                                                                        y_train_preds,\n",
        "                                                                                                                        thresh)\n",
        "\n",
        "print('Validation:\\n')\n",
        "xgbc_valid_auc, xgbc_valid_accuracy, xgbc_valid_recall, xgbc_valid_precision, xgbc_valid_specificity = print_report(y_valid,\n",
        "                                                                                                                        y_valid_preds,\n",
        "                                                                                                                        thresh)\n"
      ]
    },
    {
      "cell_type": "markdown",
      "metadata": {
        "id": "EFQtz1HJGCqc"
      },
      "source": [
        "## **Version 5 of the Model - RandomForest**\n",
        "\n",
        "See the description of this model in the videobook."
      ]
    },
    {
      "cell_type": "code",
      "execution_count": 67,
      "metadata": {
        "colab": {
          "base_uri": "https://localhost:8080/"
        },
        "id": "qzuC5yuaGCqc",
        "outputId": "19d7a68b-4772-4188-c5f2-5644f0dfed2a"
      },
      "outputs": [
        {
          "output_type": "stream",
          "name": "stdout",
          "text": [
            "Random Forest Classifier Model:\n",
            "\n",
            "Training:\n",
            "\n",
            "AUC:1.000\n",
            "Accuracy:1.000\n",
            "Recall:1.000\n",
            "Precision:1.000\n",
            "Specificity:1.000\n",
            " \n",
            "Validation:\n",
            "\n",
            "AUC:0.995\n",
            "Accuracy:0.945\n",
            "Recall:0.980\n",
            "Precision:0.795\n",
            "Specificity:0.935\n",
            " \n"
          ]
        }
      ],
      "source": [
        "# 20. Model Construction with RandomForest - v5\n",
        "\n",
        "# Create the classifier with RandomForest\n",
        "rfc = RandomForestClassifier()\n",
        "\n",
        "# Train and create the model\n",
        "model_v5 = rfc.fit(X_train_tf, y_train)\n",
        "\n",
        "# Predictions\n",
        "y_train_preds = model_v5.predict_proba(X_train_tf)[:,1]\n",
        "y_valid_preds = model_v5.predict_proba(X_valid_tf)[:,1]\n",
        "\n",
        "print('Random Forest Classifier Model:\\n')\n",
        "\n",
        "print('Training:\\n')\n",
        "rfc_train_auc, rfc_train_accuracy, rfc_train_recall, rfc_train_precision, rfc_train_specificity = print_report(y_train,\n",
        "                                                                                                                   y_train_preds,\n",
        "                                                                                                                   thresh)\n",
        "\n",
        "print('Validation:\\n')\n",
        "rfc_valid_auc, rfc_valid_accuracy, rfc_valid_recall, rfc_valid_precision, rfc_valid_specificity = print_report(y_valid,\n",
        "                                                                                                                   y_valid_preds,\n",
        "                                                                                                                   thresh)\n"
      ]
    },
    {
      "cell_type": "markdown",
      "metadata": {
        "id": "hrKZgVNEGCqc"
      },
      "source": [
        "### **Model Selection**"
      ]
    },
    {
      "cell_type": "code",
      "execution_count": 68,
      "metadata": {
        "id": "-LgQmbRSGCqc"
      },
      "outputs": [],
      "source": [
        "# 21. Results Table\n",
        "df_results = pd.DataFrame({'classifier':['LR1', 'LR1', 'LR2', 'LR2', 'NB', 'NB', 'XGB', 'XGB', 'RFC', 'RFC'],\n",
        "                           'data_set':['train','valid'] * 5,\n",
        "                           'auc':[lr1_train_auc,\n",
        "                                  lr1_valid_auc,\n",
        "                                  lr2_train_auc,\n",
        "                                  lr2_valid_auc,\n",
        "                                  nb_train_auc,\n",
        "                                  nb_valid_auc,\n",
        "                                  xgbc_train_auc,\n",
        "                                  xgbc_valid_auc,\n",
        "                                  rfc_train_auc,\n",
        "                                  rfc_valid_auc],\n",
        "                           'accuracy':[lr1_train_accuracy,\n",
        "                                       lr1_valid_accuracy,\n",
        "                                       lr2_train_accuracy,\n",
        "                                       lr2_valid_accuracy,\n",
        "                                       nb_train_accuracy,\n",
        "                                       nb_valid_accuracy,\n",
        "                                       xgbc_train_accuracy,\n",
        "                                       xgbc_valid_accuracy,\n",
        "                                       rfc_train_accuracy,\n",
        "                                       rfc_valid_accuracy],\n",
        "                           'recall':[lr1_train_recall,\n",
        "                                     lr1_valid_recall,\n",
        "                                     lr2_train_recall,\n",
        "                                     lr2_valid_recall,\n",
        "                                     nb_train_recall,\n",
        "                                     nb_valid_recall,\n",
        "                                     xgbc_train_recall,\n",
        "                                     xgbc_valid_recall,\n",
        "                                     rfc_train_recall,\n",
        "                                     rfc_valid_recall],\n",
        "                           'precision':[lr1_train_precision,\n",
        "                                        lr1_valid_precision,\n",
        "                                        lr2_train_precision,\n",
        "                                        lr2_valid_precision,\n",
        "                                        nb_train_precision,\n",
        "                                        nb_valid_precision,\n",
        "                                        xgbc_train_precision,\n",
        "                                        xgbc_valid_precision,\n",
        "                                        rfc_train_precision,\n",
        "                                        rfc_valid_precision],\n",
        "                           'specificity':[lr1_train_specificity,\n",
        "                                          lr1_valid_specificity,\n",
        "                                          lr2_train_specificity,\n",
        "                                          lr2_valid_specificity,\n",
        "                                          nb_train_specificity,\n",
        "                                          nb_valid_specificity,\n",
        "                                          xgbc_train_specificity,\n",
        "                                          xgbc_valid_specificity,\n",
        "                                          rfc_train_specificity,\n",
        "                                          rfc_valid_specificity]})\n"
      ]
    },
    {
      "cell_type": "code",
      "execution_count": 69,
      "metadata": {
        "colab": {
          "base_uri": "https://localhost:8080/",
          "height": 460
        },
        "id": "q6WBLNKXGCqc",
        "outputId": "2c32c865-d879-40c7-cbb6-cee6d4f4be9c"
      },
      "outputs": [
        {
          "output_type": "execute_result",
          "data": {
            "text/plain": [
              "  classifier data_set       auc  accuracy    recall  precision  specificity\n",
              "0        LR1    train  0.626386  0.654710  0.525889   0.708403     0.783531\n",
              "1        LR1    valid  0.540585  0.702029  0.456897   0.328512     0.763980\n",
              "2        LR2    train  0.628472  0.655958  0.528384   0.709380     0.783531\n",
              "3        LR2    valid  0.543366  0.702029  0.465517   0.330612     0.761801\n",
              "4         NB    train  0.982828  0.924828  0.880225   0.966438     0.969432\n",
              "5         NB    valid  0.985778  0.957101  0.893678   0.893678     0.973130\n",
              "6        XGB    train  1.000000  1.000000  1.000000   1.000000     1.000000\n",
              "7        XGB    valid  0.992859  0.959420  0.954023   0.860104     0.960784\n",
              "8        RFC    train  1.000000  1.000000  1.000000   1.000000     1.000000\n",
              "9        RFC    valid  0.995044  0.944928  0.979885   0.794872     0.934641"
            ],
            "text/html": [
              "\n",
              "  <div id=\"df-d09ab97f-4182-48fc-a94c-99fbb8cfb5d9\" class=\"colab-df-container\">\n",
              "    <div>\n",
              "<style scoped>\n",
              "    .dataframe tbody tr th:only-of-type {\n",
              "        vertical-align: middle;\n",
              "    }\n",
              "\n",
              "    .dataframe tbody tr th {\n",
              "        vertical-align: top;\n",
              "    }\n",
              "\n",
              "    .dataframe thead th {\n",
              "        text-align: right;\n",
              "    }\n",
              "</style>\n",
              "<table border=\"1\" class=\"dataframe\">\n",
              "  <thead>\n",
              "    <tr style=\"text-align: right;\">\n",
              "      <th></th>\n",
              "      <th>classifier</th>\n",
              "      <th>data_set</th>\n",
              "      <th>auc</th>\n",
              "      <th>accuracy</th>\n",
              "      <th>recall</th>\n",
              "      <th>precision</th>\n",
              "      <th>specificity</th>\n",
              "    </tr>\n",
              "  </thead>\n",
              "  <tbody>\n",
              "    <tr>\n",
              "      <th>0</th>\n",
              "      <td>LR1</td>\n",
              "      <td>train</td>\n",
              "      <td>0.626386</td>\n",
              "      <td>0.654710</td>\n",
              "      <td>0.525889</td>\n",
              "      <td>0.708403</td>\n",
              "      <td>0.783531</td>\n",
              "    </tr>\n",
              "    <tr>\n",
              "      <th>1</th>\n",
              "      <td>LR1</td>\n",
              "      <td>valid</td>\n",
              "      <td>0.540585</td>\n",
              "      <td>0.702029</td>\n",
              "      <td>0.456897</td>\n",
              "      <td>0.328512</td>\n",
              "      <td>0.763980</td>\n",
              "    </tr>\n",
              "    <tr>\n",
              "      <th>2</th>\n",
              "      <td>LR2</td>\n",
              "      <td>train</td>\n",
              "      <td>0.628472</td>\n",
              "      <td>0.655958</td>\n",
              "      <td>0.528384</td>\n",
              "      <td>0.709380</td>\n",
              "      <td>0.783531</td>\n",
              "    </tr>\n",
              "    <tr>\n",
              "      <th>3</th>\n",
              "      <td>LR2</td>\n",
              "      <td>valid</td>\n",
              "      <td>0.543366</td>\n",
              "      <td>0.702029</td>\n",
              "      <td>0.465517</td>\n",
              "      <td>0.330612</td>\n",
              "      <td>0.761801</td>\n",
              "    </tr>\n",
              "    <tr>\n",
              "      <th>4</th>\n",
              "      <td>NB</td>\n",
              "      <td>train</td>\n",
              "      <td>0.982828</td>\n",
              "      <td>0.924828</td>\n",
              "      <td>0.880225</td>\n",
              "      <td>0.966438</td>\n",
              "      <td>0.969432</td>\n",
              "    </tr>\n",
              "    <tr>\n",
              "      <th>5</th>\n",
              "      <td>NB</td>\n",
              "      <td>valid</td>\n",
              "      <td>0.985778</td>\n",
              "      <td>0.957101</td>\n",
              "      <td>0.893678</td>\n",
              "      <td>0.893678</td>\n",
              "      <td>0.973130</td>\n",
              "    </tr>\n",
              "    <tr>\n",
              "      <th>6</th>\n",
              "      <td>XGB</td>\n",
              "      <td>train</td>\n",
              "      <td>1.000000</td>\n",
              "      <td>1.000000</td>\n",
              "      <td>1.000000</td>\n",
              "      <td>1.000000</td>\n",
              "      <td>1.000000</td>\n",
              "    </tr>\n",
              "    <tr>\n",
              "      <th>7</th>\n",
              "      <td>XGB</td>\n",
              "      <td>valid</td>\n",
              "      <td>0.992859</td>\n",
              "      <td>0.959420</td>\n",
              "      <td>0.954023</td>\n",
              "      <td>0.860104</td>\n",
              "      <td>0.960784</td>\n",
              "    </tr>\n",
              "    <tr>\n",
              "      <th>8</th>\n",
              "      <td>RFC</td>\n",
              "      <td>train</td>\n",
              "      <td>1.000000</td>\n",
              "      <td>1.000000</td>\n",
              "      <td>1.000000</td>\n",
              "      <td>1.000000</td>\n",
              "      <td>1.000000</td>\n",
              "    </tr>\n",
              "    <tr>\n",
              "      <th>9</th>\n",
              "      <td>RFC</td>\n",
              "      <td>valid</td>\n",
              "      <td>0.995044</td>\n",
              "      <td>0.944928</td>\n",
              "      <td>0.979885</td>\n",
              "      <td>0.794872</td>\n",
              "      <td>0.934641</td>\n",
              "    </tr>\n",
              "  </tbody>\n",
              "</table>\n",
              "</div>\n",
              "    <div class=\"colab-df-buttons\">\n",
              "\n",
              "  <div class=\"colab-df-container\">\n",
              "    <button class=\"colab-df-convert\" onclick=\"convertToInteractive('df-d09ab97f-4182-48fc-a94c-99fbb8cfb5d9')\"\n",
              "            title=\"Convert this dataframe to an interactive table.\"\n",
              "            style=\"display:none;\">\n",
              "\n",
              "  <svg xmlns=\"http://www.w3.org/2000/svg\" height=\"24px\" viewBox=\"0 -960 960 960\">\n",
              "    <path d=\"M120-120v-720h720v720H120Zm60-500h600v-160H180v160Zm220 220h160v-160H400v160Zm0 220h160v-160H400v160ZM180-400h160v-160H180v160Zm440 0h160v-160H620v160ZM180-180h160v-160H180v160Zm440 0h160v-160H620v160Z\"/>\n",
              "  </svg>\n",
              "    </button>\n",
              "\n",
              "  <style>\n",
              "    .colab-df-container {\n",
              "      display:flex;\n",
              "      gap: 12px;\n",
              "    }\n",
              "\n",
              "    .colab-df-convert {\n",
              "      background-color: #E8F0FE;\n",
              "      border: none;\n",
              "      border-radius: 50%;\n",
              "      cursor: pointer;\n",
              "      display: none;\n",
              "      fill: #1967D2;\n",
              "      height: 32px;\n",
              "      padding: 0 0 0 0;\n",
              "      width: 32px;\n",
              "    }\n",
              "\n",
              "    .colab-df-convert:hover {\n",
              "      background-color: #E2EBFA;\n",
              "      box-shadow: 0px 1px 2px rgba(60, 64, 67, 0.3), 0px 1px 3px 1px rgba(60, 64, 67, 0.15);\n",
              "      fill: #174EA6;\n",
              "    }\n",
              "\n",
              "    .colab-df-buttons div {\n",
              "      margin-bottom: 4px;\n",
              "    }\n",
              "\n",
              "    [theme=dark] .colab-df-convert {\n",
              "      background-color: #3B4455;\n",
              "      fill: #D2E3FC;\n",
              "    }\n",
              "\n",
              "    [theme=dark] .colab-df-convert:hover {\n",
              "      background-color: #434B5C;\n",
              "      box-shadow: 0px 1px 3px 1px rgba(0, 0, 0, 0.15);\n",
              "      filter: drop-shadow(0px 1px 2px rgba(0, 0, 0, 0.3));\n",
              "      fill: #FFFFFF;\n",
              "    }\n",
              "  </style>\n",
              "\n",
              "    <script>\n",
              "      const buttonEl =\n",
              "        document.querySelector('#df-d09ab97f-4182-48fc-a94c-99fbb8cfb5d9 button.colab-df-convert');\n",
              "      buttonEl.style.display =\n",
              "        google.colab.kernel.accessAllowed ? 'block' : 'none';\n",
              "\n",
              "      async function convertToInteractive(key) {\n",
              "        const element = document.querySelector('#df-d09ab97f-4182-48fc-a94c-99fbb8cfb5d9');\n",
              "        const dataTable =\n",
              "          await google.colab.kernel.invokeFunction('convertToInteractive',\n",
              "                                                    [key], {});\n",
              "        if (!dataTable) return;\n",
              "\n",
              "        const docLinkHtml = 'Like what you see? Visit the ' +\n",
              "          '<a target=\"_blank\" href=https://colab.research.google.com/notebooks/data_table.ipynb>data table notebook</a>'\n",
              "          + ' to learn more about interactive tables.';\n",
              "        element.innerHTML = '';\n",
              "        dataTable['output_type'] = 'display_data';\n",
              "        await google.colab.output.renderOutput(dataTable, element);\n",
              "        const docLink = document.createElement('div');\n",
              "        docLink.innerHTML = docLinkHtml;\n",
              "        element.appendChild(docLink);\n",
              "      }\n",
              "    </script>\n",
              "  </div>\n",
              "\n",
              "\n",
              "<div id=\"df-a35346bc-9084-4b45-91fa-18a895c27f3f\">\n",
              "  <button class=\"colab-df-quickchart\" onclick=\"quickchart('df-a35346bc-9084-4b45-91fa-18a895c27f3f')\"\n",
              "            title=\"Suggest charts\"\n",
              "            style=\"display:none;\">\n",
              "\n",
              "<svg xmlns=\"http://www.w3.org/2000/svg\" height=\"24px\"viewBox=\"0 0 24 24\"\n",
              "     width=\"24px\">\n",
              "    <g>\n",
              "        <path d=\"M19 3H5c-1.1 0-2 .9-2 2v14c0 1.1.9 2 2 2h14c1.1 0 2-.9 2-2V5c0-1.1-.9-2-2-2zM9 17H7v-7h2v7zm4 0h-2V7h2v10zm4 0h-2v-4h2v4z\"/>\n",
              "    </g>\n",
              "</svg>\n",
              "  </button>\n",
              "\n",
              "<style>\n",
              "  .colab-df-quickchart {\n",
              "      --bg-color: #E8F0FE;\n",
              "      --fill-color: #1967D2;\n",
              "      --hover-bg-color: #E2EBFA;\n",
              "      --hover-fill-color: #174EA6;\n",
              "      --disabled-fill-color: #AAA;\n",
              "      --disabled-bg-color: #DDD;\n",
              "  }\n",
              "\n",
              "  [theme=dark] .colab-df-quickchart {\n",
              "      --bg-color: #3B4455;\n",
              "      --fill-color: #D2E3FC;\n",
              "      --hover-bg-color: #434B5C;\n",
              "      --hover-fill-color: #FFFFFF;\n",
              "      --disabled-bg-color: #3B4455;\n",
              "      --disabled-fill-color: #666;\n",
              "  }\n",
              "\n",
              "  .colab-df-quickchart {\n",
              "    background-color: var(--bg-color);\n",
              "    border: none;\n",
              "    border-radius: 50%;\n",
              "    cursor: pointer;\n",
              "    display: none;\n",
              "    fill: var(--fill-color);\n",
              "    height: 32px;\n",
              "    padding: 0;\n",
              "    width: 32px;\n",
              "  }\n",
              "\n",
              "  .colab-df-quickchart:hover {\n",
              "    background-color: var(--hover-bg-color);\n",
              "    box-shadow: 0 1px 2px rgba(60, 64, 67, 0.3), 0 1px 3px 1px rgba(60, 64, 67, 0.15);\n",
              "    fill: var(--button-hover-fill-color);\n",
              "  }\n",
              "\n",
              "  .colab-df-quickchart-complete:disabled,\n",
              "  .colab-df-quickchart-complete:disabled:hover {\n",
              "    background-color: var(--disabled-bg-color);\n",
              "    fill: var(--disabled-fill-color);\n",
              "    box-shadow: none;\n",
              "  }\n",
              "\n",
              "  .colab-df-spinner {\n",
              "    border: 2px solid var(--fill-color);\n",
              "    border-color: transparent;\n",
              "    border-bottom-color: var(--fill-color);\n",
              "    animation:\n",
              "      spin 1s steps(1) infinite;\n",
              "  }\n",
              "\n",
              "  @keyframes spin {\n",
              "    0% {\n",
              "      border-color: transparent;\n",
              "      border-bottom-color: var(--fill-color);\n",
              "      border-left-color: var(--fill-color);\n",
              "    }\n",
              "    20% {\n",
              "      border-color: transparent;\n",
              "      border-left-color: var(--fill-color);\n",
              "      border-top-color: var(--fill-color);\n",
              "    }\n",
              "    30% {\n",
              "      border-color: transparent;\n",
              "      border-left-color: var(--fill-color);\n",
              "      border-top-color: var(--fill-color);\n",
              "      border-right-color: var(--fill-color);\n",
              "    }\n",
              "    40% {\n",
              "      border-color: transparent;\n",
              "      border-right-color: var(--fill-color);\n",
              "      border-top-color: var(--fill-color);\n",
              "    }\n",
              "    60% {\n",
              "      border-color: transparent;\n",
              "      border-right-color: var(--fill-color);\n",
              "    }\n",
              "    80% {\n",
              "      border-color: transparent;\n",
              "      border-right-color: var(--fill-color);\n",
              "      border-bottom-color: var(--fill-color);\n",
              "    }\n",
              "    90% {\n",
              "      border-color: transparent;\n",
              "      border-bottom-color: var(--fill-color);\n",
              "    }\n",
              "  }\n",
              "</style>\n",
              "\n",
              "  <script>\n",
              "    async function quickchart(key) {\n",
              "      const quickchartButtonEl =\n",
              "        document.querySelector('#' + key + ' button');\n",
              "      quickchartButtonEl.disabled = true;  // To prevent multiple clicks.\n",
              "      quickchartButtonEl.classList.add('colab-df-spinner');\n",
              "      try {\n",
              "        const charts = await google.colab.kernel.invokeFunction(\n",
              "            'suggestCharts', [key], {});\n",
              "      } catch (error) {\n",
              "        console.error('Error during call to suggestCharts:', error);\n",
              "      }\n",
              "      quickchartButtonEl.classList.remove('colab-df-spinner');\n",
              "      quickchartButtonEl.classList.add('colab-df-quickchart-complete');\n",
              "    }\n",
              "    (() => {\n",
              "      let quickchartButtonEl =\n",
              "        document.querySelector('#df-a35346bc-9084-4b45-91fa-18a895c27f3f button');\n",
              "      quickchartButtonEl.style.display =\n",
              "        google.colab.kernel.accessAllowed ? 'block' : 'none';\n",
              "    })();\n",
              "  </script>\n",
              "</div>\n",
              "\n",
              "  <div id=\"id_e74e7ffa-33a8-419f-8c1c-bbe09418da0f\">\n",
              "    <style>\n",
              "      .colab-df-generate {\n",
              "        background-color: #E8F0FE;\n",
              "        border: none;\n",
              "        border-radius: 50%;\n",
              "        cursor: pointer;\n",
              "        display: none;\n",
              "        fill: #1967D2;\n",
              "        height: 32px;\n",
              "        padding: 0 0 0 0;\n",
              "        width: 32px;\n",
              "      }\n",
              "\n",
              "      .colab-df-generate:hover {\n",
              "        background-color: #E2EBFA;\n",
              "        box-shadow: 0px 1px 2px rgba(60, 64, 67, 0.3), 0px 1px 3px 1px rgba(60, 64, 67, 0.15);\n",
              "        fill: #174EA6;\n",
              "      }\n",
              "\n",
              "      [theme=dark] .colab-df-generate {\n",
              "        background-color: #3B4455;\n",
              "        fill: #D2E3FC;\n",
              "      }\n",
              "\n",
              "      [theme=dark] .colab-df-generate:hover {\n",
              "        background-color: #434B5C;\n",
              "        box-shadow: 0px 1px 3px 1px rgba(0, 0, 0, 0.15);\n",
              "        filter: drop-shadow(0px 1px 2px rgba(0, 0, 0, 0.3));\n",
              "        fill: #FFFFFF;\n",
              "      }\n",
              "    </style>\n",
              "    <button class=\"colab-df-generate\" onclick=\"generateWithVariable('df_results')\"\n",
              "            title=\"Generate code using this dataframe.\"\n",
              "            style=\"display:none;\">\n",
              "\n",
              "  <svg xmlns=\"http://www.w3.org/2000/svg\" height=\"24px\"viewBox=\"0 0 24 24\"\n",
              "       width=\"24px\">\n",
              "    <path d=\"M7,19H8.4L18.45,9,17,7.55,7,17.6ZM5,21V16.75L18.45,3.32a2,2,0,0,1,2.83,0l1.4,1.43a1.91,1.91,0,0,1,.58,1.4,1.91,1.91,0,0,1-.58,1.4L9.25,21ZM18.45,9,17,7.55Zm-12,3A5.31,5.31,0,0,0,4.9,8.1,5.31,5.31,0,0,0,1,6.5,5.31,5.31,0,0,0,4.9,4.9,5.31,5.31,0,0,0,6.5,1,5.31,5.31,0,0,0,8.1,4.9,5.31,5.31,0,0,0,12,6.5,5.46,5.46,0,0,0,6.5,12Z\"/>\n",
              "  </svg>\n",
              "    </button>\n",
              "    <script>\n",
              "      (() => {\n",
              "      const buttonEl =\n",
              "        document.querySelector('#id_e74e7ffa-33a8-419f-8c1c-bbe09418da0f button.colab-df-generate');\n",
              "      buttonEl.style.display =\n",
              "        google.colab.kernel.accessAllowed ? 'block' : 'none';\n",
              "\n",
              "      buttonEl.onclick = () => {\n",
              "        google.colab.notebook.generateWithVariable('df_results');\n",
              "      }\n",
              "      })();\n",
              "    </script>\n",
              "  </div>\n",
              "\n",
              "    </div>\n",
              "  </div>\n"
            ],
            "application/vnd.google.colaboratory.intrinsic+json": {
              "type": "dataframe",
              "variable_name": "df_results",
              "summary": "{\n  \"name\": \"df_results\",\n  \"rows\": 10,\n  \"fields\": [\n    {\n      \"column\": \"classifier\",\n      \"properties\": {\n        \"dtype\": \"string\",\n        \"num_unique_values\": 5,\n        \"samples\": [\n          \"LR2\",\n          \"RFC\",\n          \"NB\"\n        ],\n        \"semantic_type\": \"\",\n        \"description\": \"\"\n      }\n    },\n    {\n      \"column\": \"data_set\",\n      \"properties\": {\n        \"dtype\": \"category\",\n        \"num_unique_values\": 2,\n        \"samples\": [\n          \"valid\",\n          \"train\"\n        ],\n        \"semantic_type\": \"\",\n        \"description\": \"\"\n      }\n    },\n    {\n      \"column\": \"auc\",\n      \"properties\": {\n        \"dtype\": \"number\",\n        \"std\": 0.2127010968047524,\n        \"min\": 0.5405846459486306,\n        \"max\": 1.0,\n        \"num_unique_values\": 9,\n        \"samples\": [\n          0.9928588719438393,\n          0.5405846459486306\n        ],\n        \"semantic_type\": \"\",\n        \"description\": \"\"\n      }\n    },\n    {\n      \"column\": \"accuracy\",\n      \"properties\": {\n        \"dtype\": \"number\",\n        \"std\": 0.15005016648826178,\n        \"min\": 0.6547099189020587,\n        \"max\": 1.0,\n        \"num_unique_values\": 8,\n        \"samples\": [\n          0.7020289855072464,\n          1.0\n        ],\n        \"semantic_type\": \"\",\n        \"description\": \"\"\n      }\n    },\n    {\n      \"column\": \"recall\",\n      \"properties\": {\n        \"dtype\": \"number\",\n        \"std\": 0.24033536474302605,\n        \"min\": 0.45689655172413796,\n        \"max\": 1.0,\n        \"num_unique_values\": 9,\n        \"samples\": [\n          0.9540229885057471,\n          0.45689655172413796\n        ],\n        \"semantic_type\": \"\",\n        \"description\": \"\"\n      }\n    },\n    {\n      \"column\": \"precision\",\n      \"properties\": {\n        \"dtype\": \"number\",\n        \"std\": 0.2500437725916795,\n        \"min\": 0.3285123966942149,\n        \"max\": 1.0,\n        \"num_unique_values\": 9,\n        \"samples\": [\n          0.8601036269430051,\n          0.3285123966942149\n        ],\n        \"semantic_type\": \"\",\n        \"description\": \"\"\n      }\n    },\n    {\n      \"column\": \"specificity\",\n      \"properties\": {\n        \"dtype\": \"number\",\n        \"std\": 0.10504797231882582,\n        \"min\": 0.7618010167029775,\n        \"max\": 1.0,\n        \"num_unique_values\": 8,\n        \"samples\": [\n          0.7639796659404503,\n          1.0\n        ],\n        \"semantic_type\": \"\",\n        \"description\": \"\"\n      }\n    }\n  ]\n}"
            }
          },
          "metadata": {},
          "execution_count": 69
        }
      ],
      "source": [
        "# Results\n",
        "df_results"
      ]
    },
    {
      "cell_type": "code",
      "execution_count": 70,
      "metadata": {
        "colab": {
          "base_uri": "https://localhost:8080/",
          "height": 260
        },
        "id": "RrjvCNIsGCqc",
        "outputId": "fae77325-8d9c-4060-c9a2-eded4ffdeef6"
      },
      "outputs": [
        {
          "output_type": "execute_result",
          "data": {
            "text/plain": [
              "  classifier data_set       auc  accuracy    recall  precision  specificity\n",
              "9        RFC    valid  0.995044  0.944928  0.979885   0.794872     0.934641\n",
              "7        XGB    valid  0.992859  0.959420  0.954023   0.860104     0.960784\n",
              "5         NB    valid  0.985778  0.957101  0.893678   0.893678     0.973130\n",
              "3        LR2    valid  0.543366  0.702029  0.465517   0.330612     0.761801\n",
              "1        LR1    valid  0.540585  0.702029  0.456897   0.328512     0.763980"
            ],
            "text/html": [
              "\n",
              "  <div id=\"df-911b4f4e-a2b0-47e9-a3b3-482d8797c086\" class=\"colab-df-container\">\n",
              "    <div>\n",
              "<style scoped>\n",
              "    .dataframe tbody tr th:only-of-type {\n",
              "        vertical-align: middle;\n",
              "    }\n",
              "\n",
              "    .dataframe tbody tr th {\n",
              "        vertical-align: top;\n",
              "    }\n",
              "\n",
              "    .dataframe thead th {\n",
              "        text-align: right;\n",
              "    }\n",
              "</style>\n",
              "<table border=\"1\" class=\"dataframe\">\n",
              "  <thead>\n",
              "    <tr style=\"text-align: right;\">\n",
              "      <th></th>\n",
              "      <th>classifier</th>\n",
              "      <th>data_set</th>\n",
              "      <th>auc</th>\n",
              "      <th>accuracy</th>\n",
              "      <th>recall</th>\n",
              "      <th>precision</th>\n",
              "      <th>specificity</th>\n",
              "    </tr>\n",
              "  </thead>\n",
              "  <tbody>\n",
              "    <tr>\n",
              "      <th>9</th>\n",
              "      <td>RFC</td>\n",
              "      <td>valid</td>\n",
              "      <td>0.995044</td>\n",
              "      <td>0.944928</td>\n",
              "      <td>0.979885</td>\n",
              "      <td>0.794872</td>\n",
              "      <td>0.934641</td>\n",
              "    </tr>\n",
              "    <tr>\n",
              "      <th>7</th>\n",
              "      <td>XGB</td>\n",
              "      <td>valid</td>\n",
              "      <td>0.992859</td>\n",
              "      <td>0.959420</td>\n",
              "      <td>0.954023</td>\n",
              "      <td>0.860104</td>\n",
              "      <td>0.960784</td>\n",
              "    </tr>\n",
              "    <tr>\n",
              "      <th>5</th>\n",
              "      <td>NB</td>\n",
              "      <td>valid</td>\n",
              "      <td>0.985778</td>\n",
              "      <td>0.957101</td>\n",
              "      <td>0.893678</td>\n",
              "      <td>0.893678</td>\n",
              "      <td>0.973130</td>\n",
              "    </tr>\n",
              "    <tr>\n",
              "      <th>3</th>\n",
              "      <td>LR2</td>\n",
              "      <td>valid</td>\n",
              "      <td>0.543366</td>\n",
              "      <td>0.702029</td>\n",
              "      <td>0.465517</td>\n",
              "      <td>0.330612</td>\n",
              "      <td>0.761801</td>\n",
              "    </tr>\n",
              "    <tr>\n",
              "      <th>1</th>\n",
              "      <td>LR1</td>\n",
              "      <td>valid</td>\n",
              "      <td>0.540585</td>\n",
              "      <td>0.702029</td>\n",
              "      <td>0.456897</td>\n",
              "      <td>0.328512</td>\n",
              "      <td>0.763980</td>\n",
              "    </tr>\n",
              "  </tbody>\n",
              "</table>\n",
              "</div>\n",
              "    <div class=\"colab-df-buttons\">\n",
              "\n",
              "  <div class=\"colab-df-container\">\n",
              "    <button class=\"colab-df-convert\" onclick=\"convertToInteractive('df-911b4f4e-a2b0-47e9-a3b3-482d8797c086')\"\n",
              "            title=\"Convert this dataframe to an interactive table.\"\n",
              "            style=\"display:none;\">\n",
              "\n",
              "  <svg xmlns=\"http://www.w3.org/2000/svg\" height=\"24px\" viewBox=\"0 -960 960 960\">\n",
              "    <path d=\"M120-120v-720h720v720H120Zm60-500h600v-160H180v160Zm220 220h160v-160H400v160Zm0 220h160v-160H400v160ZM180-400h160v-160H180v160Zm440 0h160v-160H620v160ZM180-180h160v-160H180v160Zm440 0h160v-160H620v160Z\"/>\n",
              "  </svg>\n",
              "    </button>\n",
              "\n",
              "  <style>\n",
              "    .colab-df-container {\n",
              "      display:flex;\n",
              "      gap: 12px;\n",
              "    }\n",
              "\n",
              "    .colab-df-convert {\n",
              "      background-color: #E8F0FE;\n",
              "      border: none;\n",
              "      border-radius: 50%;\n",
              "      cursor: pointer;\n",
              "      display: none;\n",
              "      fill: #1967D2;\n",
              "      height: 32px;\n",
              "      padding: 0 0 0 0;\n",
              "      width: 32px;\n",
              "    }\n",
              "\n",
              "    .colab-df-convert:hover {\n",
              "      background-color: #E2EBFA;\n",
              "      box-shadow: 0px 1px 2px rgba(60, 64, 67, 0.3), 0px 1px 3px 1px rgba(60, 64, 67, 0.15);\n",
              "      fill: #174EA6;\n",
              "    }\n",
              "\n",
              "    .colab-df-buttons div {\n",
              "      margin-bottom: 4px;\n",
              "    }\n",
              "\n",
              "    [theme=dark] .colab-df-convert {\n",
              "      background-color: #3B4455;\n",
              "      fill: #D2E3FC;\n",
              "    }\n",
              "\n",
              "    [theme=dark] .colab-df-convert:hover {\n",
              "      background-color: #434B5C;\n",
              "      box-shadow: 0px 1px 3px 1px rgba(0, 0, 0, 0.15);\n",
              "      filter: drop-shadow(0px 1px 2px rgba(0, 0, 0, 0.3));\n",
              "      fill: #FFFFFF;\n",
              "    }\n",
              "  </style>\n",
              "\n",
              "    <script>\n",
              "      const buttonEl =\n",
              "        document.querySelector('#df-911b4f4e-a2b0-47e9-a3b3-482d8797c086 button.colab-df-convert');\n",
              "      buttonEl.style.display =\n",
              "        google.colab.kernel.accessAllowed ? 'block' : 'none';\n",
              "\n",
              "      async function convertToInteractive(key) {\n",
              "        const element = document.querySelector('#df-911b4f4e-a2b0-47e9-a3b3-482d8797c086');\n",
              "        const dataTable =\n",
              "          await google.colab.kernel.invokeFunction('convertToInteractive',\n",
              "                                                    [key], {});\n",
              "        if (!dataTable) return;\n",
              "\n",
              "        const docLinkHtml = 'Like what you see? Visit the ' +\n",
              "          '<a target=\"_blank\" href=https://colab.research.google.com/notebooks/data_table.ipynb>data table notebook</a>'\n",
              "          + ' to learn more about interactive tables.';\n",
              "        element.innerHTML = '';\n",
              "        dataTable['output_type'] = 'display_data';\n",
              "        await google.colab.output.renderOutput(dataTable, element);\n",
              "        const docLink = document.createElement('div');\n",
              "        docLink.innerHTML = docLinkHtml;\n",
              "        element.appendChild(docLink);\n",
              "      }\n",
              "    </script>\n",
              "  </div>\n",
              "\n",
              "\n",
              "<div id=\"df-42e28cc9-f62c-4d8e-9ae0-284fabad9e27\">\n",
              "  <button class=\"colab-df-quickchart\" onclick=\"quickchart('df-42e28cc9-f62c-4d8e-9ae0-284fabad9e27')\"\n",
              "            title=\"Suggest charts\"\n",
              "            style=\"display:none;\">\n",
              "\n",
              "<svg xmlns=\"http://www.w3.org/2000/svg\" height=\"24px\"viewBox=\"0 0 24 24\"\n",
              "     width=\"24px\">\n",
              "    <g>\n",
              "        <path d=\"M19 3H5c-1.1 0-2 .9-2 2v14c0 1.1.9 2 2 2h14c1.1 0 2-.9 2-2V5c0-1.1-.9-2-2-2zM9 17H7v-7h2v7zm4 0h-2V7h2v10zm4 0h-2v-4h2v4z\"/>\n",
              "    </g>\n",
              "</svg>\n",
              "  </button>\n",
              "\n",
              "<style>\n",
              "  .colab-df-quickchart {\n",
              "      --bg-color: #E8F0FE;\n",
              "      --fill-color: #1967D2;\n",
              "      --hover-bg-color: #E2EBFA;\n",
              "      --hover-fill-color: #174EA6;\n",
              "      --disabled-fill-color: #AAA;\n",
              "      --disabled-bg-color: #DDD;\n",
              "  }\n",
              "\n",
              "  [theme=dark] .colab-df-quickchart {\n",
              "      --bg-color: #3B4455;\n",
              "      --fill-color: #D2E3FC;\n",
              "      --hover-bg-color: #434B5C;\n",
              "      --hover-fill-color: #FFFFFF;\n",
              "      --disabled-bg-color: #3B4455;\n",
              "      --disabled-fill-color: #666;\n",
              "  }\n",
              "\n",
              "  .colab-df-quickchart {\n",
              "    background-color: var(--bg-color);\n",
              "    border: none;\n",
              "    border-radius: 50%;\n",
              "    cursor: pointer;\n",
              "    display: none;\n",
              "    fill: var(--fill-color);\n",
              "    height: 32px;\n",
              "    padding: 0;\n",
              "    width: 32px;\n",
              "  }\n",
              "\n",
              "  .colab-df-quickchart:hover {\n",
              "    background-color: var(--hover-bg-color);\n",
              "    box-shadow: 0 1px 2px rgba(60, 64, 67, 0.3), 0 1px 3px 1px rgba(60, 64, 67, 0.15);\n",
              "    fill: var(--button-hover-fill-color);\n",
              "  }\n",
              "\n",
              "  .colab-df-quickchart-complete:disabled,\n",
              "  .colab-df-quickchart-complete:disabled:hover {\n",
              "    background-color: var(--disabled-bg-color);\n",
              "    fill: var(--disabled-fill-color);\n",
              "    box-shadow: none;\n",
              "  }\n",
              "\n",
              "  .colab-df-spinner {\n",
              "    border: 2px solid var(--fill-color);\n",
              "    border-color: transparent;\n",
              "    border-bottom-color: var(--fill-color);\n",
              "    animation:\n",
              "      spin 1s steps(1) infinite;\n",
              "  }\n",
              "\n",
              "  @keyframes spin {\n",
              "    0% {\n",
              "      border-color: transparent;\n",
              "      border-bottom-color: var(--fill-color);\n",
              "      border-left-color: var(--fill-color);\n",
              "    }\n",
              "    20% {\n",
              "      border-color: transparent;\n",
              "      border-left-color: var(--fill-color);\n",
              "      border-top-color: var(--fill-color);\n",
              "    }\n",
              "    30% {\n",
              "      border-color: transparent;\n",
              "      border-left-color: var(--fill-color);\n",
              "      border-top-color: var(--fill-color);\n",
              "      border-right-color: var(--fill-color);\n",
              "    }\n",
              "    40% {\n",
              "      border-color: transparent;\n",
              "      border-right-color: var(--fill-color);\n",
              "      border-top-color: var(--fill-color);\n",
              "    }\n",
              "    60% {\n",
              "      border-color: transparent;\n",
              "      border-right-color: var(--fill-color);\n",
              "    }\n",
              "    80% {\n",
              "      border-color: transparent;\n",
              "      border-right-color: var(--fill-color);\n",
              "      border-bottom-color: var(--fill-color);\n",
              "    }\n",
              "    90% {\n",
              "      border-color: transparent;\n",
              "      border-bottom-color: var(--fill-color);\n",
              "    }\n",
              "  }\n",
              "</style>\n",
              "\n",
              "  <script>\n",
              "    async function quickchart(key) {\n",
              "      const quickchartButtonEl =\n",
              "        document.querySelector('#' + key + ' button');\n",
              "      quickchartButtonEl.disabled = true;  // To prevent multiple clicks.\n",
              "      quickchartButtonEl.classList.add('colab-df-spinner');\n",
              "      try {\n",
              "        const charts = await google.colab.kernel.invokeFunction(\n",
              "            'suggestCharts', [key], {});\n",
              "      } catch (error) {\n",
              "        console.error('Error during call to suggestCharts:', error);\n",
              "      }\n",
              "      quickchartButtonEl.classList.remove('colab-df-spinner');\n",
              "      quickchartButtonEl.classList.add('colab-df-quickchart-complete');\n",
              "    }\n",
              "    (() => {\n",
              "      let quickchartButtonEl =\n",
              "        document.querySelector('#df-42e28cc9-f62c-4d8e-9ae0-284fabad9e27 button');\n",
              "      quickchartButtonEl.style.display =\n",
              "        google.colab.kernel.accessAllowed ? 'block' : 'none';\n",
              "    })();\n",
              "  </script>\n",
              "</div>\n",
              "\n",
              "    </div>\n",
              "  </div>\n"
            ],
            "application/vnd.google.colaboratory.intrinsic+json": {
              "type": "dataframe",
              "summary": "{\n  \"name\": \"df_results[df_results['data_set'] == 'valid']\",\n  \"rows\": 5,\n  \"fields\": [\n    {\n      \"column\": \"classifier\",\n      \"properties\": {\n        \"dtype\": \"string\",\n        \"num_unique_values\": 5,\n        \"samples\": [\n          \"XGB\",\n          \"LR1\",\n          \"NB\"\n        ],\n        \"semantic_type\": \"\",\n        \"description\": \"\"\n      }\n    },\n    {\n      \"column\": \"data_set\",\n      \"properties\": {\n        \"dtype\": \"category\",\n        \"num_unique_values\": 1,\n        \"samples\": [\n          \"valid\"\n        ],\n        \"semantic_type\": \"\",\n        \"description\": \"\"\n      }\n    },\n    {\n      \"column\": \"auc\",\n      \"properties\": {\n        \"dtype\": \"number\",\n        \"std\": 0.24609095467274847,\n        \"min\": 0.5405846459486306,\n        \"max\": 0.9950437816676266,\n        \"num_unique_values\": 5,\n        \"samples\": [\n          0.9928588719438393\n        ],\n        \"semantic_type\": \"\",\n        \"description\": \"\"\n      }\n    },\n    {\n      \"column\": \"accuracy\",\n      \"properties\": {\n        \"dtype\": \"number\",\n        \"std\": 0.13801947754383975,\n        \"min\": 0.7020289855072464,\n        \"max\": 0.9594202898550724,\n        \"num_unique_values\": 4,\n        \"samples\": [\n          0.9594202898550724\n        ],\n        \"semantic_type\": \"\",\n        \"description\": \"\"\n      }\n    },\n    {\n      \"column\": \"recall\",\n      \"properties\": {\n        \"dtype\": \"number\",\n        \"std\": 0.26549764817990507,\n        \"min\": 0.45689655172413796,\n        \"max\": 0.9798850574712644,\n        \"num_unique_values\": 5,\n        \"samples\": [\n          0.9540229885057471\n        ],\n        \"semantic_type\": \"\",\n        \"description\": \"\"\n      }\n    },\n    {\n      \"column\": \"precision\",\n      \"properties\": {\n        \"dtype\": \"number\",\n        \"std\": 0.2870177253382293,\n        \"min\": 0.3285123966942149,\n        \"max\": 0.8936781609195402,\n        \"num_unique_values\": 5,\n        \"samples\": [\n          0.8601036269430051\n        ],\n        \"semantic_type\": \"\",\n        \"description\": \"\"\n      }\n    },\n    {\n      \"column\": \"specificity\",\n      \"properties\": {\n        \"dtype\": \"number\",\n        \"std\": 0.10678270917432027,\n        \"min\": 0.7618010167029775,\n        \"max\": 0.9731299927378358,\n        \"num_unique_values\": 5,\n        \"samples\": [\n          0.9607843137254902\n        ],\n        \"semantic_type\": \"\",\n        \"description\": \"\"\n      }\n    }\n  ]\n}"
            }
          },
          "metadata": {},
          "execution_count": 70
        }
      ],
      "source": [
        "# 21. Validation results sorted by AUC\n",
        "df_results[df_results['data_set'] == 'valid'].sort_values(by='auc', ascending=False)"
      ]
    },
    {
      "cell_type": "markdown",
      "metadata": {
        "id": "i9anyv3dGCqd"
      },
      "source": [
        "The chosen performance metric will be the AUC Score of the validation set. It is the most commonly used metric for comparing models from different algorithms."
      ]
    },
    {
      "cell_type": "code",
      "execution_count": 71,
      "metadata": {
        "colab": {
          "base_uri": "https://localhost:8080/",
          "height": 722
        },
        "id": "2jiv_YXUGCqd",
        "outputId": "b0e6e2fd-ecda-4015-d45b-5f07eeef8a77"
      },
      "outputs": [
        {
          "output_type": "execute_result",
          "data": {
            "text/plain": [
              "<matplotlib.legend.Legend at 0x7c21d4219cc0>"
            ]
          },
          "metadata": {},
          "execution_count": 71
        },
        {
          "output_type": "display_data",
          "data": {
            "text/plain": [
              "<Figure size 1600x800 with 1 Axes>"
            ],
            "image/png": "[encoded data removed]"
          },
          "metadata": {}
        }
      ],
      "source": [
        "# 22. Plot Construction\n",
        "sns.set_style(\"whitegrid\")\n",
        "plt.figure(figsize=(16, 8))\n",
        "\n",
        "# Bar plot\n",
        "ax = sns.barplot(x='classifier', y='auc', hue='data_set', data=df_results)\n",
        "ax.set_xlabel('Classifier', fontsize=15)\n",
        "ax.set_ylabel('AUC', fontsize=15)\n",
        "ax.tick_params(labelsize=15)\n",
        "\n",
        "# Legend\n",
        "plt.legend(bbox_to_anchor=(1.05, 1), loc=2, borderaxespad=0., fontsize=15)\n"
      ]
    },
    {
      "cell_type": "markdown",
      "metadata": {
        "id": "edFFUT73GCqd"
      },
      "source": [
        "## **Hyperparameter Optimization and Cross-Validation**\n",
        "\n",
        "Can we improve the performance of the best model?\n",
        "\n",
        "To include hyperparameter optimization and cross-validation in the project, you can use GridSearchCV from scikit-learn, which allows you to search for the best combination of hyperparameters for the model. Let's use RandomForest as the base model.\n",
        "\n",
        "https://scikit-learn.org/stable/modules/generated/sklearn.ensemble.RandomForestClassifier.html\n"
      ]
    },
    {
      "cell_type": "code",
      "execution_count": 72,
      "metadata": {
        "colab": {
          "base_uri": "https://localhost:8080/"
        },
        "id": "quOnkb7LGCqd",
        "outputId": "618fea84-0923-4d70-c224-10742a949993"
      },
      "outputs": [
        {
          "output_type": "stream",
          "name": "stdout",
          "text": [
            "Fitting 5 folds for each of 108 candidates, totalling 540 fits\n",
            "Best hyperparameters: {'max_depth': None, 'min_samples_leaf': 1, 'min_samples_split': 2, 'n_estimators': 200}\n",
            "Random Forest Classifier Model with Hyperparameter Optimization and Cross-Validation:\n",
            "\n",
            "Training:\n",
            "\n",
            "AUC:1.000\n",
            "Accuracy:1.000\n",
            "Recall:1.000\n",
            "Precision:1.000\n",
            "Specificity:1.000\n",
            " \n",
            "Validation:\n",
            "\n",
            "AUC:0.995\n",
            "Accuracy:0.947\n",
            "Recall:0.983\n",
            "Precision:0.799\n",
            "Specificity:0.936\n",
            " \n",
            "CPU times: user 30 s, sys: 4.27 s, total: 34.2 s\n",
            "Wall time: 38min 52s\n"
          ]
        }
      ],
      "source": [
        "# 23. Hyperparameter Optimization and Cross-Validation\n",
        "\n",
        "%%time\n",
        "\n",
        "# Import the GridSearchCV function\n",
        "from sklearn.model_selection import GridSearchCV\n",
        "\n",
        "# Define the hyperparameter search space\n",
        "param_grid = {\n",
        "    'n_estimators': [100, 200, 300],\n",
        "    'max_depth': [None, 10, 20, 30],\n",
        "    'min_samples_split': [2, 5, 10],\n",
        "    'min_samples_leaf': [1, 2, 4]\n",
        "}\n",
        "\n",
        "# Create the classifier with RandomForest\n",
        "classifier = RandomForestClassifier()\n",
        "\n",
        "# Configure GridSearchCV\n",
        "grid_search = GridSearchCV(estimator=classifier,\n",
        "                           param_grid=param_grid,\n",
        "                           cv=5,\n",
        "                           scoring='roc_auc',\n",
        "                           verbose=2,\n",
        "                           n_jobs=-1)\n",
        "\n",
        "# Train the model with cross-validation and search for the best hyperparameters\n",
        "model_v5_optimized = grid_search.fit(X_train_tf, y_train)\n",
        "\n",
        "# Best hyperparameters found\n",
        "print('Best hyperparameters:', model_v5_optimized.best_params_)\n",
        "\n",
        "# Predictions\n",
        "y_train_preds = model_v5_optimized.predict_proba(X_train_tf)[:,1]\n",
        "y_valid_preds = model_v5_optimized.predict_proba(X_valid_tf)[:,1]\n",
        "\n",
        "print('Random Forest Classifier Model with Hyperparameter Optimization and Cross-Validation:\\n')\n",
        "\n",
        "print('Training:\\n')\n",
        "rfc_train_auc, rfc_train_accuracy, rfc_train_recall, rfc_train_precision, rfc_train_specificity = print_report(y_train,\n",
        "                                                                                                                   y_train_preds,\n",
        "                                                                                                                   thresh)\n",
        "\n",
        "print('Validation:\\n')\n",
        "rfc_valid_auc, rfc_valid_accuracy, rfc_valid_recall, rfc_valid_precision, rfc_valid_specificity = print_report(y_valid,\n",
        "                                                                                                                   y_valid_preds,\n",
        "                                                                                                                   thresh)\n"
      ]
    },
    {
      "cell_type": "markdown",
      "metadata": {
        "id": "o8_08prmGCqd"
      },
      "source": [
        "## **Which Final Version Should We Use?**"
      ]
    },
    {
      "cell_type": "markdown",
      "metadata": {
        "id": "uGh6ik_YGCqd"
      },
      "source": [
        "\n",
        "\n",
        "**Vanilla RandomForest Model**:\n",
        "\n",
        "Validation:\n",
        "\n",
        "- AUC: 0.996\n",
        "- Accuracy: 0.947\n",
        "- Recall: 0.986\n",
        "- Precision: 0.800\n",
        "- Specificity: 0.936\n",
        "\n",
        "**Optimized RandomForest Model:**\n",
        "\n",
        "Validation:\n",
        "\n",
        "- AUC: 0.995\n",
        "- Accuracy: 0.947\n",
        "- Recall: 0.983\n",
        "- Precision: 0.799\n",
        "- Specificity: 0.936\n",
        "\n",
        "Both RandomForest models exhibit very high performance, but there are a few nuances to consider when choosing which one to use:\n",
        "\n",
        "**Validation performance**: The model with hyperparameter optimization has a slightly higher AUC on validation, indicating that it may generalize a bit better. However, other metrics are slightly lower in this model. These differences are small and may not be significant, depending on the context and the relative importance of these metrics to your specific problem.\n",
        "\n",
        "**Complexity and training time**: Hyperparameter optimization increases the complexity of the training process and the time required to train the model. If training time is a concern and the performance differences are considered insignificant, you may opt for the model without hyperparameter optimization.\n",
        "\n",
        "If you are concerned about overfitting and want a model that can generalize slightly better to new data, the model with hyperparameter optimization might be the better choice, despite its slightly lower performance in some validation metrics. However, if training time is a concern and the performance differences are acceptable for your use case, the model without hyperparameter optimization may be sufficient.\n",
        "\n",
        "**Decision**: We will use the RandomForest model without hyperparameter optimization because it is simpler and requires less training time."
      ]
    },
    {
      "cell_type": "markdown",
      "metadata": {
        "id": "mB3wCQSbGCqe"
      },
      "source": [
        "### **Saving the Best Model**\n"
      ]
    },
    {
      "cell_type": "code",
      "execution_count": 74,
      "metadata": {
        "id": "x_D5XTKaGCqe"
      },
      "outputs": [],
      "source": [
        "# 24. Save the model to disk\n",
        "pickle.dump(model_v5, open('best_model.pkl', 'wb'), protocol=4)\n"
      ]
    },
    {
      "cell_type": "markdown",
      "metadata": {
        "id": "4UIqHYBRGCqe"
      },
      "source": [
        "> **Final Evaluation of the Best Model**"
      ]
    },
    {
      "cell_type": "code",
      "execution_count": 79,
      "metadata": {
        "id": "dS_P1njVGCqe"
      },
      "outputs": [],
      "source": [
        "# 25. Load the model, input columns, and scaler\n",
        "best_model = pickle.load(open('best_model.pkl', 'rb'))\n",
        "cols_input = pickle.load(open('input_columns.sav', 'rb'))\n",
        "scaler = pickle.load(open('scaler.sav', 'rb'))\n",
        "\n",
        "# 26. Load the data\n",
        "df_train = pd.read_csv('train_final_data.csv')\n",
        "df_valid = pd.read_csv('validation_data.csv')\n",
        "df_test = pd.read_csv('test_data.csv')\n",
        "\n",
        "# 27. Create matrices X and Y\n",
        "\n",
        "# X\n",
        "X_train = df_train[cols_input].values\n",
        "X_valid = df_valid[cols_input].values\n",
        "X_test = df_test[cols_input].values\n",
        "\n",
        "# Y\n",
        "y_train = df_train['LABEL_TARGET'].values\n",
        "y_valid = df_valid['LABEL_TARGET'].values\n",
        "y_test = df_test['LABEL_TARGET'].values\n",
        "\n",
        "# 28. Apply transformation to the data\n",
        "X_train_tf = scaler.transform(X_train)\n",
        "X_valid_tf = scaler.transform(X_valid)\n",
        "X_test_tf = scaler.transform(X_test)\n"
      ]
    },
    {
      "cell_type": "code",
      "execution_count": null,
      "metadata": {
        "id": "Y9_4PlN5GCqe"
      },
      "outputs": [],
      "source": [
        "# 29. Probability Predictions\n",
        "y_train_preds = best_model.predict_proba(X_train_tf)[:,1]\n",
        "y_valid_preds = best_model.predict_proba(X_valid_tf)[:,1]\n",
        "y_test_preds = best_model.predict_proba(X_test_tf)[:,1]\n"
      ]
    },
    {
      "cell_type": "markdown",
      "metadata": {
        "id": "0yugEDxwGCqe"
      },
      "source": [
        "> ## **Final Evaluation**"
      ]
    },
    {
      "cell_type": "code",
      "execution_count": null,
      "metadata": {
        "id": "CFwcof48GCqe"
      },
      "outputs": [],
      "source": [
        "# 30. Define threshold and print evaluation metrics\n",
        "\n",
        "thresh = 0.5\n",
        "\n",
        "print('\\nTraining:\\n')\n",
        "train_auc, train_accuracy, train_recall, train_precision, train_specificity = dsa_print_report(y_train,\n",
        "                                                                                               y_train_preds,\n",
        "                                                                                               thresh)\n",
        "\n",
        "print('\\nValidation:\\n')\n",
        "valid_auc, valid_accuracy, valid_recall, valid_precision, valid_specificity = dsa_print_report(y_valid,\n",
        "                                                                                               y_valid_preds,\n",
        "                                                                                               thresh)\n",
        "\n",
        "print('\\nTest:\\n')\n",
        "test_auc, test_accuracy, test_recall, test_precision, test_specificity = dsa_print_report(y_test,\n",
        "                                                                                          y_test_preds,\n",
        "                                                                                          thresh)\n"
      ]
    },
    {
      "cell_type": "code",
      "execution_count": null,
      "metadata": {
        "id": "euzgFzA_GCqe"
      },
      "outputs": [],
      "source": [
        "# 31. Calculate ROC curve on training data\n",
        "fpr_train, tpr_train, thresholds_train = roc_curve(y_train, y_train_preds)\n",
        "auc_train = roc_auc_score(y_train, y_train_preds)\n",
        "\n",
        "# 32. Calculate ROC curve on validation data\n",
        "fpr_valid, tpr_valid, thresholds_valid = roc_curve(y_valid, y_valid_preds)\n",
        "auc_valid = roc_auc_score(y_valid, y_valid_preds)\n",
        "\n",
        "# 33. Calculate ROC curve on test data\n",
        "fpr_test, tpr_test, thresholds_test = roc_curve(y_test, y_test_preds)\n",
        "auc_test = roc_auc_score(y_test, y_test_preds)\n",
        "\n",
        "# 34. Plot ROC curves\n",
        "plt.figure(figsize=(16,10))\n",
        "plt.plot(fpr_train, tpr_train, 'r-', label = 'AUC on Training: %.3f' % auc_train)\n",
        "plt.plot(fpr_valid, tpr_valid, 'b-', label = 'AUC on Validation: %.3f' % auc_valid)\n",
        "plt.plot(fpr_test, tpr_test, 'g-', label = 'AUC on Test: %.3f' % auc_test)\n",
        "plt.plot([0,1], [0,1], 'k--')\n",
        "plt.xlabel('False Positive Rate')\n",
        "plt.ylabel('True Positive Rate')\n",
        "plt.legend()\n",
        "plt.show()\n"
      ]
    },
    {
      "cell_type": "markdown",
      "metadata": {
        "id": "E17yjRd-GCqf"
      },
      "source": [
        "## **Model Deployment**"
      ]
    },
    {
      "cell_type": "code",
      "execution_count": null,
      "metadata": {
        "id": "levGXqojGCqf"
      },
      "outputs": [],
      "source": [
        "# 35. Loading data of a new client\n",
        "new_client = pd.read_csv('data/new_client.csv')"
      ]
    },
    {
      "cell_type": "code",
      "execution_count": null,
      "metadata": {
        "id": "7OCJR7DqGCqf"
      },
      "outputs": [],
      "source": [
        "new_client.head()"
      ]
    },
    {
      "cell_type": "code",
      "execution_count": null,
      "metadata": {
        "id": "5uVkg15NGCqf"
      },
      "outputs": [],
      "source": [
        "# 36. Apply scaling to the new client data\n",
        "new_client_scaled = scaler.transform(new_client)"
      ]
    },
    {
      "cell_type": "code",
      "execution_count": null,
      "metadata": {
        "id": "1GwGOll-GCqf"
      },
      "outputs": [],
      "source": [
        "new_client_scaled"
      ]
    },
    {
      "cell_type": "code",
      "execution_count": null,
      "metadata": {
        "id": "mNTfSSBOGCqf"
      },
      "outputs": [],
      "source": [
        "# 37. Make probability predictions for the new client\n",
        "best_model.predict_proba(new_client_scaled)"
      ]
    },
    {
      "cell_type": "code",
      "execution_count": null,
      "metadata": {
        "id": "xyQ1EperGCqf"
      },
      "outputs": [],
      "source": [
        "# 38. Make class predictions for the new client\n",
        "best_model.predict(new_client_scaled)"
      ]
    },
    {
      "cell_type": "markdown",
      "metadata": {
        "id": "5wLBi2A0GCqf"
      },
      "source": [
        "According to the model's prediction, this client will not renew the insurance."
      ]
    },
    {
      "cell_type": "code",
      "execution_count": null,
      "metadata": {
        "id": "aMs_LGbSGCqg"
      },
      "outputs": [],
      "source": [
        "%reload_ext watermark\n",
        "%watermark -a \"panData\""
      ]
    },
    {
      "cell_type": "code",
      "execution_count": null,
      "metadata": {
        "id": "Wl0BFROzGCqg"
      },
      "outputs": [],
      "source": [
        "%watermark -v -m"
      ]
    },
    {
      "cell_type": "code",
      "execution_count": null,
      "metadata": {
        "id": "KsqsS7C3GCqg"
      },
      "outputs": [],
      "source": [
        "%watermark --iversions"
      ]
    },
    {
      "cell_type": "markdown",
      "metadata": {
        "id": "rKfcGb3xGCqg"
      },
      "source": [
        "# **The End**"
      ]
    }
  ],
  "metadata": {
    "kernelspec": {
      "display_name": "Python 3 (ipykernel)",
      "language": "python",
      "name": "python3"
    },
    "language_info": {
      "codemirror_mode": {
        "name": "ipython",
        "version": 3
      },
      "file_extension": ".py",
      "mimetype": "text/x-python",
      "name": "python",
      "nbconvert_exporter": "python",
      "pygments_lexer": "ipython3",
      "version": "3.11.5"
    },
    "colab": {
      "provenance": []
    }
  },
  "nbformat": 4,
  "nbformat_minor": 0
}